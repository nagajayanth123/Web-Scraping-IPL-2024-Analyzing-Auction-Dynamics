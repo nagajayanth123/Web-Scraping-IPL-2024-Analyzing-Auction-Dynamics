{
 "cells": [
  {
   "cell_type": "markdown",
   "id": "4ece78d4",
   "metadata": {},
   "source": [
    "# Import the required libraries"
   ]
  },
  {
   "cell_type": "code",
   "execution_count": 1,
   "id": "34b33521",
   "metadata": {},
   "outputs": [],
   "source": [
    "import requests\n",
    "from bs4 import BeautifulSoup\n",
    "import pandas as pd\n",
    "import matplotlib.pyplot as plt\n",
    "import seaborn as sns"
   ]
  },
  {
   "cell_type": "markdown",
   "id": "c063404c",
   "metadata": {},
   "source": [
    "# Send a request to the website on which you need to do web scraping"
   ]
  },
  {
   "cell_type": "code",
   "execution_count": 2,
   "id": "c5fa2b02",
   "metadata": {},
   "outputs": [],
   "source": [
    "url = \"https://www.iplt20.com/auction\""
   ]
  },
  {
   "cell_type": "code",
   "execution_count": 3,
   "id": "71a0d402",
   "metadata": {},
   "outputs": [
    {
     "name": "stdout",
     "output_type": "stream",
     "text": [
      "<Response [200]>\n"
     ]
    }
   ],
   "source": [
    "r = requests.get(url)\n",
    "print(r)"
   ]
  },
  {
   "cell_type": "markdown",
   "id": "9b69344c",
   "metadata": {},
   "source": [
    "# Perform web scraping"
   ]
  },
  {
   "cell_type": "code",
   "execution_count": 4,
   "id": "8d2ebc9d",
   "metadata": {},
   "outputs": [],
   "source": [
    "soup = BeautifulSoup(r.text,\"lxml\")"
   ]
  },
  {
   "cell_type": "code",
   "execution_count": 5,
   "id": "82a7f538",
   "metadata": {},
   "outputs": [
    {
     "name": "stdout",
     "output_type": "stream",
     "text": [
      "<table class=\"ih-td-tab auction-tbl\" id=\"t3\" width=\"100%\">\n",
      "<thead>\n",
      "<tr class=\"ih-pt-tbl\" style=\"display:revert\">\n",
      "<th class=\"skip-filter\" style=\"width:25%;text-align: left;\">TEAM</th>\n",
      "<th class=\"skip-filter\" style=\"width:25%;\">FUNDS REMAINING</th>\n",
      "<th class=\"skip-filter\" style=\"width:25%;\">OVERSEAS PLAYERS </th>\n",
      "<th class=\"skip-filter\" style=\"width:25%;\">TOTAL PLAYERS</th>\n",
      "</tr>\n",
      "<thead>\n",
      "</thead></thead><tbody id=\"pointsdata\">\n",
      "<tr>\n",
      "<td class=\"ih-t-color\">\n",
      "<div class=\"ih-pt-ic\">\n",
      "<div class=\"ih-pt-img\" style=\"width: 60px\">\n",
      "<img alt=\"\" src=\"https://bcciplayerimages.s3.ap-south-1.amazonaws.com/ipl/franchises/1702465555_CSKroundbig.png\"/>\n",
      "</div>\n",
      "<h2 class=\"ih-pt-cont\">Chennai Super Kings</h2>\n",
      "</div>\n",
      "</td>\n",
      "<td>₹1,00,00,000</td>\n",
      "<td>8</td>\n",
      "<td>25</td>\n",
      "</tr>\n",
      "<tr>\n",
      "<td class=\"ih-t-color\">\n",
      "<div class=\"ih-pt-ic\">\n",
      "<div class=\"ih-pt-img\" style=\"width: 60px\">\n",
      "<img alt=\"\" src=\"https://bcciplayerimages.s3.ap-south-1.amazonaws.com/ipl/franchises/1702465727_DCroundbig.png\"/>\n",
      "</div>\n",
      "<h2 class=\"ih-pt-cont\">Delhi Capitals</h2>\n",
      "</div>\n",
      "</td>\n",
      "<td>₹9,90,00,000</td>\n",
      "<td>8</td>\n",
      "<td>25</td>\n",
      "</tr>\n",
      "<tr>\n",
      "<td class=\"ih-t-color\">\n",
      "<div class=\"ih-pt-ic\">\n",
      "<div class=\"ih-pt-img\" style=\"width: 60px\">\n",
      "<img alt=\"\" src=\"https://bcciplayerimages.s3.ap-south-1.amazonaws.com/ipl/franchises/1702465836_GTroundbig.png\"/>\n",
      "</div>\n",
      "<h2 class=\"ih-pt-cont\">Gujarat Titans</h2>\n",
      "</div>\n",
      "</td>\n",
      "<td>₹7,85,00,000</td>\n",
      "<td>8</td>\n",
      "<td>25</td>\n",
      "</tr>\n",
      "<tr>\n",
      "<td class=\"ih-t-color\">\n",
      "<div class=\"ih-pt-ic\">\n",
      "<div class=\"ih-pt-img\" style=\"width: 60px\">\n",
      "<img alt=\"\" src=\"https://bcciplayerimages.s3.ap-south-1.amazonaws.com/ipl/franchises/1702465948_KKRroundbig.png\"/>\n",
      "</div>\n",
      "<h2 class=\"ih-pt-cont\">Kolkata Knight Riders</h2>\n",
      "</div>\n",
      "</td>\n",
      "<td>₹1,35,00,000</td>\n",
      "<td>8</td>\n",
      "<td>23</td>\n",
      "</tr>\n",
      "<tr>\n",
      "<td class=\"ih-t-color\">\n",
      "<div class=\"ih-pt-ic\">\n",
      "<div class=\"ih-pt-img\" style=\"width: 60px\">\n",
      "<img alt=\"\" src=\"https://bcciplayerimages.s3.ap-south-1.amazonaws.com/ipl/franchises/1702466030_LSGroundbig.png\"/>\n",
      "</div>\n",
      "<h2 class=\"ih-pt-cont\">Lucknow Super Giants</h2>\n",
      "</div>\n",
      "</td>\n",
      "<td>₹95,00,000</td>\n",
      "<td>8</td>\n",
      "<td>25</td>\n",
      "</tr>\n",
      "<tr>\n",
      "<td class=\"ih-t-color\">\n",
      "<div class=\"ih-pt-ic\">\n",
      "<div class=\"ih-pt-img\" style=\"width: 60px\">\n",
      "<img alt=\"\" src=\"https://bcciplayerimages.s3.ap-south-1.amazonaws.com/ipl/franchises/1702466090_MIroundbig.png\"/>\n",
      "</div>\n",
      "<h2 class=\"ih-pt-cont\">Mumbai Indians</h2>\n",
      "</div>\n",
      "</td>\n",
      "<td>₹1,05,00,000</td>\n",
      "<td>8</td>\n",
      "<td>25</td>\n",
      "</tr>\n",
      "<tr>\n",
      "<td class=\"ih-t-color\">\n",
      "<div class=\"ih-pt-ic\">\n",
      "<div class=\"ih-pt-img\" style=\"width: 60px\">\n",
      "<img alt=\"\" src=\"https://bcciplayerimages.s3.ap-south-1.amazonaws.com/ipl/franchises/1702466143_PBKSroundbig.png\"/>\n",
      "</div>\n",
      "<h2 class=\"ih-pt-cont\">Punjab Kings</h2>\n",
      "</div>\n",
      "</td>\n",
      "<td>₹4,15,00,000</td>\n",
      "<td>8</td>\n",
      "<td>25</td>\n",
      "</tr>\n",
      "<tr>\n",
      "<td class=\"ih-t-color\">\n",
      "<div class=\"ih-pt-ic\">\n",
      "<div class=\"ih-pt-img\" style=\"width: 60px\">\n",
      "<img alt=\"\" src=\"https://bcciplayerimages.s3.ap-south-1.amazonaws.com/ipl/franchises/1702466295_RRroundbig.png\"/>\n",
      "</div>\n",
      "<h2 class=\"ih-pt-cont\">Rajasthan Royals</h2>\n",
      "</div>\n",
      "</td>\n",
      "<td>₹20,00,000</td>\n",
      "<td>8</td>\n",
      "<td>22</td>\n",
      "</tr>\n",
      "<tr>\n",
      "<td class=\"ih-t-color\">\n",
      "<div class=\"ih-pt-ic\">\n",
      "<div class=\"ih-pt-img\" style=\"width: 60px\">\n",
      "<img alt=\"\" src=\"https://bcciplayerimages.s3.ap-south-1.amazonaws.com/ipl/franchises/1702466217_RCBroundbig.png\"/>\n",
      "</div>\n",
      "<h2 class=\"ih-pt-cont\">Royal Challengers Bengaluru</h2>\n",
      "</div>\n",
      "</td>\n",
      "<td>₹2,85,00,000</td>\n",
      "<td>8</td>\n",
      "<td>25</td>\n",
      "</tr>\n",
      "<tr>\n",
      "<td class=\"ih-t-color\">\n",
      "<div class=\"ih-pt-ic\">\n",
      "<div class=\"ih-pt-img\" style=\"width: 60px\">\n",
      "<img alt=\"\" src=\"https://bcciplayerimages.s3.ap-south-1.amazonaws.com/ipl/franchises/1702466366_SRHroundbig.png\"/>\n",
      "</div>\n",
      "<h2 class=\"ih-pt-cont\">Sunrisers Hyderabad</h2>\n",
      "</div>\n",
      "</td>\n",
      "<td>₹3,20,00,000</td>\n",
      "<td>8</td>\n",
      "<td>25</td>\n",
      "</tr>\n",
      "</tbody>\n",
      "</table>\n"
     ]
    }
   ],
   "source": [
    "table = soup.find(\"table\", class_ =\"ih-td-tab auction-tbl\")\n",
    "print(table)"
   ]
  },
  {
   "cell_type": "code",
   "execution_count": 6,
   "id": "7a29f143",
   "metadata": {},
   "outputs": [
    {
     "name": "stdout",
     "output_type": "stream",
     "text": [
      "[<th class=\"skip-filter\" style=\"width:25%;text-align: left;\">TEAM</th>, <th class=\"skip-filter\" style=\"width:25%;\">FUNDS REMAINING</th>, <th class=\"skip-filter\" style=\"width:25%;\">OVERSEAS PLAYERS </th>, <th class=\"skip-filter\" style=\"width:25%;\">TOTAL PLAYERS</th>]\n"
     ]
    }
   ],
   "source": [
    "title = table.find_all(\"th\")\n",
    "print(title)"
   ]
  },
  {
   "cell_type": "code",
   "execution_count": 7,
   "id": "172c5e36",
   "metadata": {},
   "outputs": [],
   "source": [
    "header = []"
   ]
  },
  {
   "cell_type": "code",
   "execution_count": 8,
   "id": "4fa7bd68",
   "metadata": {},
   "outputs": [],
   "source": [
    "for i in title:\n",
    "    name = i.text\n",
    "    header.append(name)    "
   ]
  },
  {
   "cell_type": "code",
   "execution_count": 9,
   "id": "91d43625",
   "metadata": {},
   "outputs": [
    {
     "name": "stdout",
     "output_type": "stream",
     "text": [
      "['TEAM', 'FUNDS REMAINING', 'OVERSEAS PLAYERS ', 'TOTAL PLAYERS']\n"
     ]
    }
   ],
   "source": [
    "print(header)"
   ]
  },
  {
   "cell_type": "code",
   "execution_count": 10,
   "id": "2673ff6d",
   "metadata": {},
   "outputs": [
    {
     "name": "stdout",
     "output_type": "stream",
     "text": [
      "Empty DataFrame\n",
      "Columns: [TEAM, FUNDS REMAINING, OVERSEAS PLAYERS , TOTAL PLAYERS]\n",
      "Index: []\n"
     ]
    }
   ],
   "source": [
    "df = pd.DataFrame(columns = header)\n",
    "print(df)"
   ]
  },
  {
   "cell_type": "code",
   "execution_count": 11,
   "id": "a3530258",
   "metadata": {},
   "outputs": [
    {
     "name": "stdout",
     "output_type": "stream",
     "text": [
      "[<tr class=\"ih-pt-tbl\" style=\"display:revert\">\n",
      "<th class=\"skip-filter\" style=\"width:25%;text-align: left;\">TEAM</th>\n",
      "<th class=\"skip-filter\" style=\"width:25%;\">FUNDS REMAINING</th>\n",
      "<th class=\"skip-filter\" style=\"width:25%;\">OVERSEAS PLAYERS </th>\n",
      "<th class=\"skip-filter\" style=\"width:25%;\">TOTAL PLAYERS</th>\n",
      "</tr>, <tr>\n",
      "<td class=\"ih-t-color\">\n",
      "<div class=\"ih-pt-ic\">\n",
      "<div class=\"ih-pt-img\" style=\"width: 60px\">\n",
      "<img alt=\"\" src=\"https://bcciplayerimages.s3.ap-south-1.amazonaws.com/ipl/franchises/1702465555_CSKroundbig.png\"/>\n",
      "</div>\n",
      "<h2 class=\"ih-pt-cont\">Chennai Super Kings</h2>\n",
      "</div>\n",
      "</td>\n",
      "<td>₹1,00,00,000</td>\n",
      "<td>8</td>\n",
      "<td>25</td>\n",
      "</tr>, <tr>\n",
      "<td class=\"ih-t-color\">\n",
      "<div class=\"ih-pt-ic\">\n",
      "<div class=\"ih-pt-img\" style=\"width: 60px\">\n",
      "<img alt=\"\" src=\"https://bcciplayerimages.s3.ap-south-1.amazonaws.com/ipl/franchises/1702465727_DCroundbig.png\"/>\n",
      "</div>\n",
      "<h2 class=\"ih-pt-cont\">Delhi Capitals</h2>\n",
      "</div>\n",
      "</td>\n",
      "<td>₹9,90,00,000</td>\n",
      "<td>8</td>\n",
      "<td>25</td>\n",
      "</tr>, <tr>\n",
      "<td class=\"ih-t-color\">\n",
      "<div class=\"ih-pt-ic\">\n",
      "<div class=\"ih-pt-img\" style=\"width: 60px\">\n",
      "<img alt=\"\" src=\"https://bcciplayerimages.s3.ap-south-1.amazonaws.com/ipl/franchises/1702465836_GTroundbig.png\"/>\n",
      "</div>\n",
      "<h2 class=\"ih-pt-cont\">Gujarat Titans</h2>\n",
      "</div>\n",
      "</td>\n",
      "<td>₹7,85,00,000</td>\n",
      "<td>8</td>\n",
      "<td>25</td>\n",
      "</tr>, <tr>\n",
      "<td class=\"ih-t-color\">\n",
      "<div class=\"ih-pt-ic\">\n",
      "<div class=\"ih-pt-img\" style=\"width: 60px\">\n",
      "<img alt=\"\" src=\"https://bcciplayerimages.s3.ap-south-1.amazonaws.com/ipl/franchises/1702465948_KKRroundbig.png\"/>\n",
      "</div>\n",
      "<h2 class=\"ih-pt-cont\">Kolkata Knight Riders</h2>\n",
      "</div>\n",
      "</td>\n",
      "<td>₹1,35,00,000</td>\n",
      "<td>8</td>\n",
      "<td>23</td>\n",
      "</tr>, <tr>\n",
      "<td class=\"ih-t-color\">\n",
      "<div class=\"ih-pt-ic\">\n",
      "<div class=\"ih-pt-img\" style=\"width: 60px\">\n",
      "<img alt=\"\" src=\"https://bcciplayerimages.s3.ap-south-1.amazonaws.com/ipl/franchises/1702466030_LSGroundbig.png\"/>\n",
      "</div>\n",
      "<h2 class=\"ih-pt-cont\">Lucknow Super Giants</h2>\n",
      "</div>\n",
      "</td>\n",
      "<td>₹95,00,000</td>\n",
      "<td>8</td>\n",
      "<td>25</td>\n",
      "</tr>, <tr>\n",
      "<td class=\"ih-t-color\">\n",
      "<div class=\"ih-pt-ic\">\n",
      "<div class=\"ih-pt-img\" style=\"width: 60px\">\n",
      "<img alt=\"\" src=\"https://bcciplayerimages.s3.ap-south-1.amazonaws.com/ipl/franchises/1702466090_MIroundbig.png\"/>\n",
      "</div>\n",
      "<h2 class=\"ih-pt-cont\">Mumbai Indians</h2>\n",
      "</div>\n",
      "</td>\n",
      "<td>₹1,05,00,000</td>\n",
      "<td>8</td>\n",
      "<td>25</td>\n",
      "</tr>, <tr>\n",
      "<td class=\"ih-t-color\">\n",
      "<div class=\"ih-pt-ic\">\n",
      "<div class=\"ih-pt-img\" style=\"width: 60px\">\n",
      "<img alt=\"\" src=\"https://bcciplayerimages.s3.ap-south-1.amazonaws.com/ipl/franchises/1702466143_PBKSroundbig.png\"/>\n",
      "</div>\n",
      "<h2 class=\"ih-pt-cont\">Punjab Kings</h2>\n",
      "</div>\n",
      "</td>\n",
      "<td>₹4,15,00,000</td>\n",
      "<td>8</td>\n",
      "<td>25</td>\n",
      "</tr>, <tr>\n",
      "<td class=\"ih-t-color\">\n",
      "<div class=\"ih-pt-ic\">\n",
      "<div class=\"ih-pt-img\" style=\"width: 60px\">\n",
      "<img alt=\"\" src=\"https://bcciplayerimages.s3.ap-south-1.amazonaws.com/ipl/franchises/1702466295_RRroundbig.png\"/>\n",
      "</div>\n",
      "<h2 class=\"ih-pt-cont\">Rajasthan Royals</h2>\n",
      "</div>\n",
      "</td>\n",
      "<td>₹20,00,000</td>\n",
      "<td>8</td>\n",
      "<td>22</td>\n",
      "</tr>, <tr>\n",
      "<td class=\"ih-t-color\">\n",
      "<div class=\"ih-pt-ic\">\n",
      "<div class=\"ih-pt-img\" style=\"width: 60px\">\n",
      "<img alt=\"\" src=\"https://bcciplayerimages.s3.ap-south-1.amazonaws.com/ipl/franchises/1702466217_RCBroundbig.png\"/>\n",
      "</div>\n",
      "<h2 class=\"ih-pt-cont\">Royal Challengers Bengaluru</h2>\n",
      "</div>\n",
      "</td>\n",
      "<td>₹2,85,00,000</td>\n",
      "<td>8</td>\n",
      "<td>25</td>\n",
      "</tr>, <tr>\n",
      "<td class=\"ih-t-color\">\n",
      "<div class=\"ih-pt-ic\">\n",
      "<div class=\"ih-pt-img\" style=\"width: 60px\">\n",
      "<img alt=\"\" src=\"https://bcciplayerimages.s3.ap-south-1.amazonaws.com/ipl/franchises/1702466366_SRHroundbig.png\"/>\n",
      "</div>\n",
      "<h2 class=\"ih-pt-cont\">Sunrisers Hyderabad</h2>\n",
      "</div>\n",
      "</td>\n",
      "<td>₹3,20,00,000</td>\n",
      "<td>8</td>\n",
      "<td>25</td>\n",
      "</tr>]\n"
     ]
    }
   ],
   "source": [
    "rows = table.find_all(\"tr\")\n",
    "print(rows)"
   ]
  },
  {
   "cell_type": "code",
   "execution_count": 12,
   "id": "cc3ae04e",
   "metadata": {},
   "outputs": [
    {
     "name": "stdout",
     "output_type": "stream",
     "text": [
      "[<td class=\"ih-t-color\">\n",
      "<div class=\"ih-pt-ic\">\n",
      "<div class=\"ih-pt-img\" style=\"width: 60px\">\n",
      "<img alt=\"\" src=\"https://bcciplayerimages.s3.ap-south-1.amazonaws.com/ipl/franchises/1702465555_CSKroundbig.png\"/>\n",
      "</div>\n",
      "<h2 class=\"ih-pt-cont\">Chennai Super Kings</h2>\n",
      "</div>\n",
      "</td>, <td>₹1,00,00,000</td>, <td>8</td>, <td>25</td>]\n",
      "[<td class=\"ih-t-color\">\n",
      "<div class=\"ih-pt-ic\">\n",
      "<div class=\"ih-pt-img\" style=\"width: 60px\">\n",
      "<img alt=\"\" src=\"https://bcciplayerimages.s3.ap-south-1.amazonaws.com/ipl/franchises/1702465727_DCroundbig.png\"/>\n",
      "</div>\n",
      "<h2 class=\"ih-pt-cont\">Delhi Capitals</h2>\n",
      "</div>\n",
      "</td>, <td>₹9,90,00,000</td>, <td>8</td>, <td>25</td>]\n",
      "[<td class=\"ih-t-color\">\n",
      "<div class=\"ih-pt-ic\">\n",
      "<div class=\"ih-pt-img\" style=\"width: 60px\">\n",
      "<img alt=\"\" src=\"https://bcciplayerimages.s3.ap-south-1.amazonaws.com/ipl/franchises/1702465836_GTroundbig.png\"/>\n",
      "</div>\n",
      "<h2 class=\"ih-pt-cont\">Gujarat Titans</h2>\n",
      "</div>\n",
      "</td>, <td>₹7,85,00,000</td>, <td>8</td>, <td>25</td>]\n",
      "[<td class=\"ih-t-color\">\n",
      "<div class=\"ih-pt-ic\">\n",
      "<div class=\"ih-pt-img\" style=\"width: 60px\">\n",
      "<img alt=\"\" src=\"https://bcciplayerimages.s3.ap-south-1.amazonaws.com/ipl/franchises/1702465948_KKRroundbig.png\"/>\n",
      "</div>\n",
      "<h2 class=\"ih-pt-cont\">Kolkata Knight Riders</h2>\n",
      "</div>\n",
      "</td>, <td>₹1,35,00,000</td>, <td>8</td>, <td>23</td>]\n",
      "[<td class=\"ih-t-color\">\n",
      "<div class=\"ih-pt-ic\">\n",
      "<div class=\"ih-pt-img\" style=\"width: 60px\">\n",
      "<img alt=\"\" src=\"https://bcciplayerimages.s3.ap-south-1.amazonaws.com/ipl/franchises/1702466030_LSGroundbig.png\"/>\n",
      "</div>\n",
      "<h2 class=\"ih-pt-cont\">Lucknow Super Giants</h2>\n",
      "</div>\n",
      "</td>, <td>₹95,00,000</td>, <td>8</td>, <td>25</td>]\n",
      "[<td class=\"ih-t-color\">\n",
      "<div class=\"ih-pt-ic\">\n",
      "<div class=\"ih-pt-img\" style=\"width: 60px\">\n",
      "<img alt=\"\" src=\"https://bcciplayerimages.s3.ap-south-1.amazonaws.com/ipl/franchises/1702466090_MIroundbig.png\"/>\n",
      "</div>\n",
      "<h2 class=\"ih-pt-cont\">Mumbai Indians</h2>\n",
      "</div>\n",
      "</td>, <td>₹1,05,00,000</td>, <td>8</td>, <td>25</td>]\n",
      "[<td class=\"ih-t-color\">\n",
      "<div class=\"ih-pt-ic\">\n",
      "<div class=\"ih-pt-img\" style=\"width: 60px\">\n",
      "<img alt=\"\" src=\"https://bcciplayerimages.s3.ap-south-1.amazonaws.com/ipl/franchises/1702466143_PBKSroundbig.png\"/>\n",
      "</div>\n",
      "<h2 class=\"ih-pt-cont\">Punjab Kings</h2>\n",
      "</div>\n",
      "</td>, <td>₹4,15,00,000</td>, <td>8</td>, <td>25</td>]\n",
      "[<td class=\"ih-t-color\">\n",
      "<div class=\"ih-pt-ic\">\n",
      "<div class=\"ih-pt-img\" style=\"width: 60px\">\n",
      "<img alt=\"\" src=\"https://bcciplayerimages.s3.ap-south-1.amazonaws.com/ipl/franchises/1702466295_RRroundbig.png\"/>\n",
      "</div>\n",
      "<h2 class=\"ih-pt-cont\">Rajasthan Royals</h2>\n",
      "</div>\n",
      "</td>, <td>₹20,00,000</td>, <td>8</td>, <td>22</td>]\n",
      "[<td class=\"ih-t-color\">\n",
      "<div class=\"ih-pt-ic\">\n",
      "<div class=\"ih-pt-img\" style=\"width: 60px\">\n",
      "<img alt=\"\" src=\"https://bcciplayerimages.s3.ap-south-1.amazonaws.com/ipl/franchises/1702466217_RCBroundbig.png\"/>\n",
      "</div>\n",
      "<h2 class=\"ih-pt-cont\">Royal Challengers Bengaluru</h2>\n",
      "</div>\n",
      "</td>, <td>₹2,85,00,000</td>, <td>8</td>, <td>25</td>]\n",
      "[<td class=\"ih-t-color\">\n",
      "<div class=\"ih-pt-ic\">\n",
      "<div class=\"ih-pt-img\" style=\"width: 60px\">\n",
      "<img alt=\"\" src=\"https://bcciplayerimages.s3.ap-south-1.amazonaws.com/ipl/franchises/1702466366_SRHroundbig.png\"/>\n",
      "</div>\n",
      "<h2 class=\"ih-pt-cont\">Sunrisers Hyderabad</h2>\n",
      "</div>\n",
      "</td>, <td>₹3,20,00,000</td>, <td>8</td>, <td>25</td>]\n"
     ]
    }
   ],
   "source": [
    "for i in rows[1:]:\n",
    "    data = i.find_all(\"td\")    \n",
    "    print(data)"
   ]
  },
  {
   "cell_type": "code",
   "execution_count": 13,
   "id": "cf667035",
   "metadata": {},
   "outputs": [
    {
     "name": "stdout",
     "output_type": "stream",
     "text": [
      "['\\n\\n\\n\\n\\nChennai Super Kings\\n\\n', '₹1,00,00,000', '8', '25']\n",
      "['\\n\\n\\n\\n\\nDelhi Capitals\\n\\n', '₹9,90,00,000', '8', '25']\n",
      "['\\n\\n\\n\\n\\nGujarat Titans\\n\\n', '₹7,85,00,000', '8', '25']\n",
      "['\\n\\n\\n\\n\\nKolkata Knight Riders\\n\\n', '₹1,35,00,000', '8', '23']\n",
      "['\\n\\n\\n\\n\\nLucknow Super Giants\\n\\n', '₹95,00,000', '8', '25']\n",
      "['\\n\\n\\n\\n\\nMumbai Indians\\n\\n', '₹1,05,00,000', '8', '25']\n",
      "['\\n\\n\\n\\n\\nPunjab Kings\\n\\n', '₹4,15,00,000', '8', '25']\n",
      "['\\n\\n\\n\\n\\nRajasthan Royals\\n\\n', '₹20,00,000', '8', '22']\n",
      "['\\n\\n\\n\\n\\nRoyal Challengers Bengaluru\\n\\n', '₹2,85,00,000', '8', '25']\n",
      "['\\n\\n\\n\\n\\nSunrisers Hyderabad\\n\\n', '₹3,20,00,000', '8', '25']\n"
     ]
    }
   ],
   "source": [
    "for i in rows[1:]:\n",
    "    data = i.find_all(\"td\")    \n",
    "    row = [tr.text for tr in data]\n",
    "    print(row)"
   ]
  },
  {
   "cell_type": "code",
   "execution_count": 14,
   "id": "c6435984",
   "metadata": {},
   "outputs": [],
   "source": [
    "for i in rows[1:]:\n",
    "    first_td = i.find_all(\"td\")[0].find(\"div\" , class_ = \"ih-pt-ic\").text.strip()\n",
    "    data = i.find_all(\"td\")[1:]\n",
    "    row = [tr.text for tr in data]\n",
    "    row.insert(0,first_td)\n",
    "    l = len(df) \n",
    "    df.loc[l] = row\n",
    "    "
   ]
  },
  {
   "cell_type": "code",
   "execution_count": 15,
   "id": "50431706",
   "metadata": {},
   "outputs": [
    {
     "name": "stdout",
     "output_type": "stream",
     "text": [
      "                          TEAM FUNDS REMAINING OVERSEAS PLAYERS  TOTAL PLAYERS\n",
      "0          Chennai Super Kings    ₹1,00,00,000                 8            25\n",
      "1               Delhi Capitals    ₹9,90,00,000                 8            25\n",
      "2               Gujarat Titans    ₹7,85,00,000                 8            25\n",
      "3        Kolkata Knight Riders    ₹1,35,00,000                 8            23\n",
      "4         Lucknow Super Giants      ₹95,00,000                 8            25\n",
      "5               Mumbai Indians    ₹1,05,00,000                 8            25\n",
      "6                 Punjab Kings    ₹4,15,00,000                 8            25\n",
      "7             Rajasthan Royals      ₹20,00,000                 8            22\n",
      "8  Royal Challengers Bengaluru    ₹2,85,00,000                 8            25\n",
      "9          Sunrisers Hyderabad    ₹3,20,00,000                 8            25\n"
     ]
    }
   ],
   "source": [
    "print(df)"
   ]
  },
  {
   "cell_type": "markdown",
   "id": "e92c7578",
   "metadata": {},
   "source": [
    "# Convert the dataframe to a csv file"
   ]
  },
  {
   "cell_type": "code",
   "execution_count": 16,
   "id": "14f40622",
   "metadata": {},
   "outputs": [],
   "source": [
    "df.to_csv(\"ipl_2024_Auction_Stats.csv\")"
   ]
  },
  {
   "cell_type": "markdown",
   "id": "8c22afe1",
   "metadata": {},
   "source": [
    "# Perform exploratory data analysis"
   ]
  },
  {
   "cell_type": "code",
   "execution_count": 17,
   "id": "265adbb2",
   "metadata": {},
   "outputs": [],
   "source": [
    "ds = pd.read_csv(\"ipl_2024_Auction_Stats.csv\")"
   ]
  },
  {
   "cell_type": "code",
   "execution_count": 18,
   "id": "7e20e591",
   "metadata": {},
   "outputs": [
    {
     "data": {
      "text/html": [
       "<div>\n",
       "<style scoped>\n",
       "    .dataframe tbody tr th:only-of-type {\n",
       "        vertical-align: middle;\n",
       "    }\n",
       "\n",
       "    .dataframe tbody tr th {\n",
       "        vertical-align: top;\n",
       "    }\n",
       "\n",
       "    .dataframe thead th {\n",
       "        text-align: right;\n",
       "    }\n",
       "</style>\n",
       "<table border=\"1\" class=\"dataframe\">\n",
       "  <thead>\n",
       "    <tr style=\"text-align: right;\">\n",
       "      <th></th>\n",
       "      <th>Unnamed: 0</th>\n",
       "      <th>TEAM</th>\n",
       "      <th>FUNDS REMAINING</th>\n",
       "      <th>OVERSEAS PLAYERS</th>\n",
       "      <th>TOTAL PLAYERS</th>\n",
       "    </tr>\n",
       "  </thead>\n",
       "  <tbody>\n",
       "    <tr>\n",
       "      <th>0</th>\n",
       "      <td>0</td>\n",
       "      <td>Chennai Super Kings</td>\n",
       "      <td>₹1,00,00,000</td>\n",
       "      <td>8</td>\n",
       "      <td>25</td>\n",
       "    </tr>\n",
       "    <tr>\n",
       "      <th>1</th>\n",
       "      <td>1</td>\n",
       "      <td>Delhi Capitals</td>\n",
       "      <td>₹9,90,00,000</td>\n",
       "      <td>8</td>\n",
       "      <td>25</td>\n",
       "    </tr>\n",
       "    <tr>\n",
       "      <th>2</th>\n",
       "      <td>2</td>\n",
       "      <td>Gujarat Titans</td>\n",
       "      <td>₹7,85,00,000</td>\n",
       "      <td>8</td>\n",
       "      <td>25</td>\n",
       "    </tr>\n",
       "    <tr>\n",
       "      <th>3</th>\n",
       "      <td>3</td>\n",
       "      <td>Kolkata Knight Riders</td>\n",
       "      <td>₹1,35,00,000</td>\n",
       "      <td>8</td>\n",
       "      <td>23</td>\n",
       "    </tr>\n",
       "    <tr>\n",
       "      <th>4</th>\n",
       "      <td>4</td>\n",
       "      <td>Lucknow Super Giants</td>\n",
       "      <td>₹95,00,000</td>\n",
       "      <td>8</td>\n",
       "      <td>25</td>\n",
       "    </tr>\n",
       "  </tbody>\n",
       "</table>\n",
       "</div>"
      ],
      "text/plain": [
       "   Unnamed: 0                   TEAM FUNDS REMAINING  OVERSEAS PLAYERS   \\\n",
       "0           0    Chennai Super Kings    ₹1,00,00,000                  8   \n",
       "1           1         Delhi Capitals    ₹9,90,00,000                  8   \n",
       "2           2         Gujarat Titans    ₹7,85,00,000                  8   \n",
       "3           3  Kolkata Knight Riders    ₹1,35,00,000                  8   \n",
       "4           4   Lucknow Super Giants      ₹95,00,000                  8   \n",
       "\n",
       "   TOTAL PLAYERS  \n",
       "0             25  \n",
       "1             25  \n",
       "2             25  \n",
       "3             23  \n",
       "4             25  "
      ]
     },
     "execution_count": 18,
     "metadata": {},
     "output_type": "execute_result"
    }
   ],
   "source": [
    "ds.head()"
   ]
  },
  {
   "cell_type": "code",
   "execution_count": 19,
   "id": "17a4069a",
   "metadata": {},
   "outputs": [],
   "source": [
    "ds = ds.drop(columns=['Unnamed: 0'])"
   ]
  },
  {
   "cell_type": "code",
   "execution_count": 20,
   "id": "4b5a6bd2",
   "metadata": {},
   "outputs": [
    {
     "data": {
      "text/html": [
       "<div>\n",
       "<style scoped>\n",
       "    .dataframe tbody tr th:only-of-type {\n",
       "        vertical-align: middle;\n",
       "    }\n",
       "\n",
       "    .dataframe tbody tr th {\n",
       "        vertical-align: top;\n",
       "    }\n",
       "\n",
       "    .dataframe thead th {\n",
       "        text-align: right;\n",
       "    }\n",
       "</style>\n",
       "<table border=\"1\" class=\"dataframe\">\n",
       "  <thead>\n",
       "    <tr style=\"text-align: right;\">\n",
       "      <th></th>\n",
       "      <th>TEAM</th>\n",
       "      <th>FUNDS REMAINING</th>\n",
       "      <th>OVERSEAS PLAYERS</th>\n",
       "      <th>TOTAL PLAYERS</th>\n",
       "    </tr>\n",
       "  </thead>\n",
       "  <tbody>\n",
       "    <tr>\n",
       "      <th>0</th>\n",
       "      <td>Chennai Super Kings</td>\n",
       "      <td>₹1,00,00,000</td>\n",
       "      <td>8</td>\n",
       "      <td>25</td>\n",
       "    </tr>\n",
       "    <tr>\n",
       "      <th>1</th>\n",
       "      <td>Delhi Capitals</td>\n",
       "      <td>₹9,90,00,000</td>\n",
       "      <td>8</td>\n",
       "      <td>25</td>\n",
       "    </tr>\n",
       "    <tr>\n",
       "      <th>2</th>\n",
       "      <td>Gujarat Titans</td>\n",
       "      <td>₹7,85,00,000</td>\n",
       "      <td>8</td>\n",
       "      <td>25</td>\n",
       "    </tr>\n",
       "    <tr>\n",
       "      <th>3</th>\n",
       "      <td>Kolkata Knight Riders</td>\n",
       "      <td>₹1,35,00,000</td>\n",
       "      <td>8</td>\n",
       "      <td>23</td>\n",
       "    </tr>\n",
       "    <tr>\n",
       "      <th>4</th>\n",
       "      <td>Lucknow Super Giants</td>\n",
       "      <td>₹95,00,000</td>\n",
       "      <td>8</td>\n",
       "      <td>25</td>\n",
       "    </tr>\n",
       "  </tbody>\n",
       "</table>\n",
       "</div>"
      ],
      "text/plain": [
       "                    TEAM FUNDS REMAINING  OVERSEAS PLAYERS   TOTAL PLAYERS\n",
       "0    Chennai Super Kings    ₹1,00,00,000                  8             25\n",
       "1         Delhi Capitals    ₹9,90,00,000                  8             25\n",
       "2         Gujarat Titans    ₹7,85,00,000                  8             25\n",
       "3  Kolkata Knight Riders    ₹1,35,00,000                  8             23\n",
       "4   Lucknow Super Giants      ₹95,00,000                  8             25"
      ]
     },
     "execution_count": 20,
     "metadata": {},
     "output_type": "execute_result"
    }
   ],
   "source": [
    "ds.head()"
   ]
  },
  {
   "cell_type": "code",
   "execution_count": 21,
   "id": "96c7e18b",
   "metadata": {},
   "outputs": [
    {
     "name": "stdout",
     "output_type": "stream",
     "text": [
      "<class 'pandas.core.frame.DataFrame'>\n",
      "RangeIndex: 10 entries, 0 to 9\n",
      "Data columns (total 4 columns):\n",
      " #   Column             Non-Null Count  Dtype \n",
      "---  ------             --------------  ----- \n",
      " 0   TEAM               10 non-null     object\n",
      " 1   FUNDS REMAINING    10 non-null     object\n",
      " 2   OVERSEAS PLAYERS   10 non-null     int64 \n",
      " 3   TOTAL PLAYERS      10 non-null     int64 \n",
      "dtypes: int64(2), object(2)\n",
      "memory usage: 448.0+ bytes\n"
     ]
    }
   ],
   "source": [
    "ds.info()"
   ]
  },
  {
   "cell_type": "code",
   "execution_count": 22,
   "id": "b42f2b60",
   "metadata": {},
   "outputs": [],
   "source": [
    "ds['FUNDS REMAINING'] = ds['FUNDS REMAINING'].str[1:]"
   ]
  },
  {
   "cell_type": "code",
   "execution_count": 23,
   "id": "d34ef3db",
   "metadata": {},
   "outputs": [
    {
     "data": {
      "text/html": [
       "<div>\n",
       "<style scoped>\n",
       "    .dataframe tbody tr th:only-of-type {\n",
       "        vertical-align: middle;\n",
       "    }\n",
       "\n",
       "    .dataframe tbody tr th {\n",
       "        vertical-align: top;\n",
       "    }\n",
       "\n",
       "    .dataframe thead th {\n",
       "        text-align: right;\n",
       "    }\n",
       "</style>\n",
       "<table border=\"1\" class=\"dataframe\">\n",
       "  <thead>\n",
       "    <tr style=\"text-align: right;\">\n",
       "      <th></th>\n",
       "      <th>TEAM</th>\n",
       "      <th>FUNDS REMAINING</th>\n",
       "      <th>OVERSEAS PLAYERS</th>\n",
       "      <th>TOTAL PLAYERS</th>\n",
       "    </tr>\n",
       "  </thead>\n",
       "  <tbody>\n",
       "    <tr>\n",
       "      <th>0</th>\n",
       "      <td>Chennai Super Kings</td>\n",
       "      <td>1,00,00,000</td>\n",
       "      <td>8</td>\n",
       "      <td>25</td>\n",
       "    </tr>\n",
       "    <tr>\n",
       "      <th>1</th>\n",
       "      <td>Delhi Capitals</td>\n",
       "      <td>9,90,00,000</td>\n",
       "      <td>8</td>\n",
       "      <td>25</td>\n",
       "    </tr>\n",
       "    <tr>\n",
       "      <th>2</th>\n",
       "      <td>Gujarat Titans</td>\n",
       "      <td>7,85,00,000</td>\n",
       "      <td>8</td>\n",
       "      <td>25</td>\n",
       "    </tr>\n",
       "    <tr>\n",
       "      <th>3</th>\n",
       "      <td>Kolkata Knight Riders</td>\n",
       "      <td>1,35,00,000</td>\n",
       "      <td>8</td>\n",
       "      <td>23</td>\n",
       "    </tr>\n",
       "    <tr>\n",
       "      <th>4</th>\n",
       "      <td>Lucknow Super Giants</td>\n",
       "      <td>95,00,000</td>\n",
       "      <td>8</td>\n",
       "      <td>25</td>\n",
       "    </tr>\n",
       "  </tbody>\n",
       "</table>\n",
       "</div>"
      ],
      "text/plain": [
       "                    TEAM FUNDS REMAINING  OVERSEAS PLAYERS   TOTAL PLAYERS\n",
       "0    Chennai Super Kings     1,00,00,000                  8             25\n",
       "1         Delhi Capitals     9,90,00,000                  8             25\n",
       "2         Gujarat Titans     7,85,00,000                  8             25\n",
       "3  Kolkata Knight Riders     1,35,00,000                  8             23\n",
       "4   Lucknow Super Giants       95,00,000                  8             25"
      ]
     },
     "execution_count": 23,
     "metadata": {},
     "output_type": "execute_result"
    }
   ],
   "source": [
    "ds.head()"
   ]
  },
  {
   "cell_type": "code",
   "execution_count": 24,
   "id": "eb994527",
   "metadata": {},
   "outputs": [],
   "source": [
    "ds['FUNDS REMAINING'] = ds['FUNDS REMAINING'].str.replace(\",\", \"\")"
   ]
  },
  {
   "cell_type": "code",
   "execution_count": 25,
   "id": "06af3b30",
   "metadata": {},
   "outputs": [
    {
     "data": {
      "text/html": [
       "<div>\n",
       "<style scoped>\n",
       "    .dataframe tbody tr th:only-of-type {\n",
       "        vertical-align: middle;\n",
       "    }\n",
       "\n",
       "    .dataframe tbody tr th {\n",
       "        vertical-align: top;\n",
       "    }\n",
       "\n",
       "    .dataframe thead th {\n",
       "        text-align: right;\n",
       "    }\n",
       "</style>\n",
       "<table border=\"1\" class=\"dataframe\">\n",
       "  <thead>\n",
       "    <tr style=\"text-align: right;\">\n",
       "      <th></th>\n",
       "      <th>TEAM</th>\n",
       "      <th>FUNDS REMAINING</th>\n",
       "      <th>OVERSEAS PLAYERS</th>\n",
       "      <th>TOTAL PLAYERS</th>\n",
       "    </tr>\n",
       "  </thead>\n",
       "  <tbody>\n",
       "    <tr>\n",
       "      <th>0</th>\n",
       "      <td>Chennai Super Kings</td>\n",
       "      <td>10000000</td>\n",
       "      <td>8</td>\n",
       "      <td>25</td>\n",
       "    </tr>\n",
       "    <tr>\n",
       "      <th>1</th>\n",
       "      <td>Delhi Capitals</td>\n",
       "      <td>99000000</td>\n",
       "      <td>8</td>\n",
       "      <td>25</td>\n",
       "    </tr>\n",
       "    <tr>\n",
       "      <th>2</th>\n",
       "      <td>Gujarat Titans</td>\n",
       "      <td>78500000</td>\n",
       "      <td>8</td>\n",
       "      <td>25</td>\n",
       "    </tr>\n",
       "    <tr>\n",
       "      <th>3</th>\n",
       "      <td>Kolkata Knight Riders</td>\n",
       "      <td>13500000</td>\n",
       "      <td>8</td>\n",
       "      <td>23</td>\n",
       "    </tr>\n",
       "    <tr>\n",
       "      <th>4</th>\n",
       "      <td>Lucknow Super Giants</td>\n",
       "      <td>9500000</td>\n",
       "      <td>8</td>\n",
       "      <td>25</td>\n",
       "    </tr>\n",
       "  </tbody>\n",
       "</table>\n",
       "</div>"
      ],
      "text/plain": [
       "                    TEAM FUNDS REMAINING  OVERSEAS PLAYERS   TOTAL PLAYERS\n",
       "0    Chennai Super Kings        10000000                  8             25\n",
       "1         Delhi Capitals        99000000                  8             25\n",
       "2         Gujarat Titans        78500000                  8             25\n",
       "3  Kolkata Knight Riders        13500000                  8             23\n",
       "4   Lucknow Super Giants         9500000                  8             25"
      ]
     },
     "execution_count": 25,
     "metadata": {},
     "output_type": "execute_result"
    }
   ],
   "source": [
    "ds.head()"
   ]
  },
  {
   "cell_type": "code",
   "execution_count": 26,
   "id": "c7281cf1",
   "metadata": {},
   "outputs": [],
   "source": [
    "ds['FUNDS REMAINING'] = ds['FUNDS REMAINING'].astype('int64')"
   ]
  },
  {
   "cell_type": "code",
   "execution_count": 27,
   "id": "7b6c9087",
   "metadata": {},
   "outputs": [
    {
     "name": "stdout",
     "output_type": "stream",
     "text": [
      "<class 'pandas.core.frame.DataFrame'>\n",
      "RangeIndex: 10 entries, 0 to 9\n",
      "Data columns (total 4 columns):\n",
      " #   Column             Non-Null Count  Dtype \n",
      "---  ------             --------------  ----- \n",
      " 0   TEAM               10 non-null     object\n",
      " 1   FUNDS REMAINING    10 non-null     int64 \n",
      " 2   OVERSEAS PLAYERS   10 non-null     int64 \n",
      " 3   TOTAL PLAYERS      10 non-null     int64 \n",
      "dtypes: int64(3), object(1)\n",
      "memory usage: 448.0+ bytes\n"
     ]
    }
   ],
   "source": [
    "ds.info()"
   ]
  },
  {
   "cell_type": "code",
   "execution_count": 28,
   "id": "000a8367",
   "metadata": {},
   "outputs": [
    {
     "data": {
      "text/html": [
       "<div>\n",
       "<style scoped>\n",
       "    .dataframe tbody tr th:only-of-type {\n",
       "        vertical-align: middle;\n",
       "    }\n",
       "\n",
       "    .dataframe tbody tr th {\n",
       "        vertical-align: top;\n",
       "    }\n",
       "\n",
       "    .dataframe thead th {\n",
       "        text-align: right;\n",
       "    }\n",
       "</style>\n",
       "<table border=\"1\" class=\"dataframe\">\n",
       "  <thead>\n",
       "    <tr style=\"text-align: right;\">\n",
       "      <th></th>\n",
       "      <th>FUNDS REMAINING</th>\n",
       "      <th>OVERSEAS PLAYERS</th>\n",
       "      <th>TOTAL PLAYERS</th>\n",
       "    </tr>\n",
       "  </thead>\n",
       "  <tbody>\n",
       "    <tr>\n",
       "      <th>count</th>\n",
       "      <td>1.000000e+01</td>\n",
       "      <td>10.0</td>\n",
       "      <td>10.000000</td>\n",
       "    </tr>\n",
       "    <tr>\n",
       "      <th>mean</th>\n",
       "      <td>3.250000e+07</td>\n",
       "      <td>8.0</td>\n",
       "      <td>24.500000</td>\n",
       "    </tr>\n",
       "    <tr>\n",
       "      <th>std</th>\n",
       "      <td>3.239684e+07</td>\n",
       "      <td>0.0</td>\n",
       "      <td>1.080123</td>\n",
       "    </tr>\n",
       "    <tr>\n",
       "      <th>min</th>\n",
       "      <td>2.000000e+06</td>\n",
       "      <td>8.0</td>\n",
       "      <td>22.000000</td>\n",
       "    </tr>\n",
       "    <tr>\n",
       "      <th>25%</th>\n",
       "      <td>1.012500e+07</td>\n",
       "      <td>8.0</td>\n",
       "      <td>25.000000</td>\n",
       "    </tr>\n",
       "    <tr>\n",
       "      <th>50%</th>\n",
       "      <td>2.100000e+07</td>\n",
       "      <td>8.0</td>\n",
       "      <td>25.000000</td>\n",
       "    </tr>\n",
       "    <tr>\n",
       "      <th>75%</th>\n",
       "      <td>3.912500e+07</td>\n",
       "      <td>8.0</td>\n",
       "      <td>25.000000</td>\n",
       "    </tr>\n",
       "    <tr>\n",
       "      <th>max</th>\n",
       "      <td>9.900000e+07</td>\n",
       "      <td>8.0</td>\n",
       "      <td>25.000000</td>\n",
       "    </tr>\n",
       "  </tbody>\n",
       "</table>\n",
       "</div>"
      ],
      "text/plain": [
       "       FUNDS REMAINING  OVERSEAS PLAYERS   TOTAL PLAYERS\n",
       "count     1.000000e+01               10.0      10.000000\n",
       "mean      3.250000e+07                8.0      24.500000\n",
       "std       3.239684e+07                0.0       1.080123\n",
       "min       2.000000e+06                8.0      22.000000\n",
       "25%       1.012500e+07                8.0      25.000000\n",
       "50%       2.100000e+07                8.0      25.000000\n",
       "75%       3.912500e+07                8.0      25.000000\n",
       "max       9.900000e+07                8.0      25.000000"
      ]
     },
     "execution_count": 28,
     "metadata": {},
     "output_type": "execute_result"
    }
   ],
   "source": [
    "ds.describe()"
   ]
  },
  {
   "cell_type": "code",
   "execution_count": 29,
   "id": "7de4cf7b",
   "metadata": {
    "scrolled": true
   },
   "outputs": [
    {
     "data": {
      "image/png": "[encoded data removed]",
      "text/plain": [
       "<Figure size 1800x360 with 1 Axes>"
      ]
     },
     "metadata": {},
     "output_type": "display_data"
    }
   ],
   "source": [
    "sns.set(rc={'figure.figsize':(25,5)})\n",
    "sns.barplot(x='TEAM', y='TOTAL PLAYERS', data=ds)\n",
    "plt.title('Bar Chart of Teams vs Total Players')\n",
    "plt.xlabel('Teams')\n",
    "plt.ylabel('Total Players')\n",
    "plt.show()"
   ]
  },
  {
   "cell_type": "code",
   "execution_count": 30,
   "id": "2a506825",
   "metadata": {},
   "outputs": [
    {
     "data": {
      "image/png": "[encoded data removed]",
      "text/plain": [
       "<Figure size 1800x360 with 1 Axes>"
      ]
     },
     "metadata": {},
     "output_type": "display_data"
    }
   ],
   "source": [
    "plt.figure(figsize=(25, 5))\n",
    "sns.scatterplot(data=ds, x='TEAM', y='FUNDS REMAINING', color='black')\n",
    "plt.title('Scatter plot of Teams vs Funds Remaining')\n",
    "plt.xlabel('Teams')\n",
    "plt.ylabel('Funds Remaining')\n",
    "plt.show()"
   ]
  },
  {
   "cell_type": "markdown",
   "id": "a9fd47ca",
   "metadata": {},
   "source": [
    "From the above charts we can conclude that :    \n",
    " 1. Except KKR and RR all other teams have 25 players in their squad.\n",
    " 2. DC has high funds remaining as compared to the other IPL teams."
   ]
  }
 ],
 "metadata": {
  "kernelspec": {
   "display_name": "Python 3 (ipykernel)",
   "language": "python",
   "name": "python3"
  },
  "language_info": {
   "codemirror_mode": {
    "name": "ipython",
    "version": 3
   },
   "file_extension": ".py",
   "mimetype": "text/x-python",
   "name": "python",
   "nbconvert_exporter": "python",
   "pygments_lexer": "ipython3",
   "version": "3.8.8"
  }
 },
 "nbformat": 4,
 "nbformat_minor": 5
}
